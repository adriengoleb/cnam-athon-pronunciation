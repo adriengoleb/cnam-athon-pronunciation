{
 "cells": [
  {
   "cell_type": "markdown",
   "metadata": {},
   "source": [
    "# DicoCo\n",
    "\n",
    "*Adrien Golebiewski*"
   ]
  },
  {
   "cell_type": "code",
   "execution_count": 1,
   "metadata": {},
   "outputs": [],
   "source": [
    "# import necessaires à la création des widgets\n",
    "from IPython.display import display, clear_output, HTML, Markdown, Audio\n",
    "import ipywidgets as widgets"
   ]
  },
  {
   "cell_type": "code",
   "execution_count": 2,
   "metadata": {},
   "outputs": [],
   "source": [
    "#coloration du texte\n",
    "from termcolor import colored"
   ]
  },
  {
   "cell_type": "code",
   "execution_count": 3,
   "metadata": {},
   "outputs": [],
   "source": [
    "import pandas as pd\n",
    "import re\n",
    "\n",
    "from requests_html import HTMLSession\n",
    "import re\n",
    "import pandas as pd\n",
    "from bs4 import BeautifulSoup"
   ]
  },
  {
   "cell_type": "markdown",
   "metadata": {},
   "source": [
    "### Récupération de la fonction de scrapping/parsing"
   ]
  },
  {
   "cell_type": "code",
   "execution_count": 4,
   "metadata": {},
   "outputs": [],
   "source": [
    "def scrap_parse_longman(word):\n",
    "    \n",
    "    # requête http de notre site de langue - Choix du site Longman\n",
    "    url_longman = 'https://www.ldoceonline.com/dictionary/'+word\n",
    "    session = HTMLSession()\n",
    "    response = session.get(url_longman)\n",
    "    \n",
    "    #si le site se génère bien sans erreur\n",
    "    if (response.status_code == 200):\n",
    "        \n",
    "        # récupération de la balise body\n",
    "        html_doc = response.content\n",
    "        body = BeautifulSoup(html_doc,'html.parser')\n",
    "        body.find('body')\n",
    "        \n",
    "        # initialisation des données à récupérer dans des listes\n",
    "        #pour faciliter l'accès\n",
    "        list_type = []\n",
    "        list_pron = []\n",
    "        list_MP3_us = []\n",
    "        list_MP3_br = []\n",
    "        \n",
    "        \n",
    "        # récupération des spans contenant les données recherchées\n",
    "        span = body.findAll('span', {'class': re.compile('(frequent )*Head')})\n",
    "\n",
    "        for result in span:\n",
    "            \n",
    "            # recherche des balises spans dont les classes ont comme valeur \"POS\" ou \"PRON\"\n",
    "            if result.find('span', {'class':'POS'}) is not None:\n",
    "                list_type.append(result.find('span', {'class':'POS'}).text.strip())\n",
    "            if result.find('span', {'class':'PRON'}) is not None:\n",
    "                list_pron.append(result.find('span', {'class':'PRON'}).text.strip())\n",
    "                \n",
    "            spans_all = result.findAll('span')\n",
    "                \n",
    "            # recherche des balises spans avec attribut \"data-src-mp3\"\n",
    "            for span in spans_all:\n",
    "                if span.has_attr('data-src-mp3'):\n",
    "                    if 'British' in span['title']:\n",
    "                        list_MP3_br.append(span['data-src-mp3'])\n",
    "                    elif 'American' in span['title']:\n",
    "                        list_MP3_us.append(span['data-src-mp3'])\n",
    "                           \n",
    "        # nombre d'homonymes\n",
    "        nb_hom = len(list_type)\n",
    "        \n",
    "        # création du dataframe final\n",
    "        list_mots = nb_hom * [word]\n",
    "        while (len(list_pron) < nb_hom):\n",
    "            list_pron.append(list_pron[0])\n",
    "        \n",
    "        df_result = pd.DataFrame(list(zip(list_mots, list_type, list_pron, list_MP3_br, list_MP3_us)),\n",
    "                        columns = ['mot', 'type', 'pron', 'audio_us', 'audio_br'])\n",
    "    \n",
    "    \n",
    "    return df_result"
   ]
  },
  {
   "cell_type": "markdown",
   "metadata": {},
   "source": [
    "### Récupération du dico Buchanan enrichi"
   ]
  },
  {
   "cell_type": "code",
   "execution_count": 5,
   "metadata": {},
   "outputs": [],
   "source": [
    "cheminDicoBuchMot = \"./../data/dataframe/BuchananRich.csv\"\n",
    "Dico = pd.read_csv(cheminDicoBuchMot, delimiter=\";\", encoding=\"utf8\")[['Mot', 'pron', 'POS', 'pronSampa', 'ipa']]"
   ]
  },
  {
   "cell_type": "markdown",
   "metadata": {},
   "source": [
    "### Définition fonction filtre"
   ]
  },
  {
   "cell_type": "code",
   "execution_count": 6,
   "metadata": {},
   "outputs": [],
   "source": [
    "def filtDf(Mot):    \n",
    "    dfMonDicoFiltered = Dico[Dico['Mot'].str.contains(Mot, na=False,flags=re.IGNORECASE, regex=True)]\n",
    "    return dfMonDicoFiltered"
   ]
  },
  {
   "cell_type": "markdown",
   "metadata": {},
   "source": [
    "### Définition de nos widgets et du processus de clic"
   ]
  },
  {
   "cell_type": "code",
   "execution_count": 9,
   "metadata": {},
   "outputs": [],
   "source": [
    "# widget entrées\n",
    "textFilter = widgets.Text(\n",
    "       value=\"love\",\n",
    "       description='Mot:',\n",
    "       layout={'width': '180px'} )\n",
    "\n",
    "textFilter_IPA = widgets.Text(\n",
    "       value=\"O:\",\n",
    "       description='IPA:',\n",
    "       layout={'width': '180px'} )\n",
    "\n",
    "# widget slider Occ max\n",
    "nbOccur_f = widgets.IntSlider(value=3, min=0, max=20, description='Occ max', layout={'width': '250px'})\n",
    "\n",
    "# widget boutton collecter\n",
    "buttonFiltrer = widgets.Button(description='Collecter')\n",
    "buttonFiltrer.style.button_color = 'lightgreen' #couleur du  boutton\n",
    "\n",
    "# widgets de sortie\n",
    "outDf = widgets.Output()\n",
    "outMp3 = widgets.Output()\n",
    "Text = widgets.Output()\n",
    "\n",
    "# fonction appelé au click\n",
    "def click_bouton(_):\n",
    "    \n",
    "    # récupérer le texte Mot saisi par l'utilisateur\n",
    "    targetWord = textFilter.value\n",
    "    df_filtered = filtDf(targetWord)\n",
    "    # on affiche les n premiers plutôt qu'un sample\n",
    "    df_filtered_visible = df_filtered.head(nbOccur_f.value)\n",
    "    \n",
    "    # récupérer le texte IPA saisi par l'utilisateur\n",
    "    targetIPA = textFilter_IPA.value\n",
    "    df_filtered_IPA = filtDf(targetIPA)\n",
    "    # on préfère ici afficher les n premiers plutôt qu'un sample\n",
    "    df_filtered_visible_IPA = df_filtered_IPA.head(nbOccur_f.value)\n",
    "    \n",
    "    \n",
    "    # widget text\n",
    "    with Text:\n",
    "        display('        et les audios        ')\n",
    "    \n",
    "    # widget affichant le Df\n",
    "    with outDf:\n",
    "        clear_output()\n",
    "        display(df_filtered_visible)\n",
    "    \n",
    "    # widget contenant l'url longman et les players audios\n",
    "    with outMp3:\n",
    "        clear_output()\n",
    "        for word in df_filtered_visible['Mot']:\n",
    "            \n",
    "            #définition url du site Longman\n",
    "            urlLongman = \"https://www.ldoceonline.com/dictionary/\"\n",
    "            urlTarget = urlLongman+word\n",
    "            display(HTML('<a href=\"'+urlTarget+'\" target=\"_blank\" >'+'longman : '+word+'</a>'))\n",
    "            \n",
    "            # appel de la fonction de scrapping renvoyant le df\n",
    "            audio_url_br = scrap_parse_longman(word)['audio_br']\n",
    "            audio_url_us = scrap_parse_longman(word)['audio_us']\n",
    "            \n",
    "        \n",
    "            #si l'url britannique existe, si il y a au moins 1 caractère\n",
    "            if len(audio_url_br) > 0:\n",
    "                #Appel de la fonction audio + split de l'url pour récupérer le nom du fichier\n",
    "                audio_url_br = audio_url_br.iloc[0].split('?', 1)[0]\n",
    "                display(HTML('<b>BR</b>'))\n",
    "                #affichage de l'audio\n",
    "                display(Audio(url=audio_url_br))\n",
    "            \n",
    "            #si l'url américain existe, si il y a au moins 1 caractère\n",
    "            if len(audio_url_us) > 0:\n",
    "                #Appel de la fonction audio + split de l'url pour récupérer le nom du fichier\n",
    "                audio_url_us = audio_url_us.iloc[0].split('?', 1)[0]\n",
    "                display(HTML('<b>US</b>'))\n",
    "                #affichage de l'audio\n",
    "                display(Audio(url=audio_url_us))\n",
    "            \n",
    "            #si l'url britannique et américain n'existent pas, si il y a n'y a pas de caractéres\n",
    "            if len(audio_url_br) == 0 and len(audio_url_us) == 0:\n",
    "                display(HTML('Pas de fichier audio pour le mot '+word))\n",
    "            \n",
    "buttonFiltrer.on_click(click_bouton)"
   ]
  },
  {
   "cell_type": "markdown",
   "metadata": {},
   "source": [
    "### Assemblage du layout et affichage de l'UI"
   ]
  },
  {
   "cell_type": "code",
   "execution_count": 10,
   "metadata": {},
   "outputs": [
    {
     "name": "stdout",
     "output_type": "stream",
     "text": [
      "\u001b[1m\u001b[34m                                          Projet Dico - Golebiewski ADRIEN \n",
      " \n",
      " \n",
      "\u001b[0m\n"
     ]
    },
    {
     "data": {
      "application/vnd.jupyter.widget-view+json": {
       "model_id": "67a6da313fe84859b984767121eaa7c4",
       "version_major": 2,
       "version_minor": 0
      },
      "text/plain": [
       "VBox(children=(HBox(children=(Text(value='love', description='Mot:', layout=Layout(width='180px')), Text(value…"
      ]
     },
     "metadata": {},
     "output_type": "display_data"
    }
   ],
   "source": [
    "Filtres = widgets.HBox([textFilter,textFilter_IPA, nbOccur_f, buttonFiltrer])\n",
    "\n",
    "\n",
    "Sortie = widgets.HBox([outDf,Text,outMp3])\n",
    "\n",
    "UI = widgets.VBox([Filtres,Sortie])\n",
    "\n",
    "print(colored('                                          Projet Dico - Golebiewski ADRIEN \\n \\n \\n', 'blue', attrs=['bold']))\n",
    "\n",
    "#affichage finale de l'UI\n",
    "UI"
   ]
  },
  {
   "cell_type": "code",
   "execution_count": null,
   "metadata": {},
   "outputs": [],
   "source": []
  }
 ],
 "metadata": {
  "kernelspec": {
   "display_name": "Python 3",
   "language": "python",
   "name": "python3"
  },
  "language_info": {
   "codemirror_mode": {
    "name": "ipython",
    "version": 3
   },
   "file_extension": ".py",
   "mimetype": "text/x-python",
   "name": "python",
   "nbconvert_exporter": "python",
   "pygments_lexer": "ipython3",
   "version": "3.7.9"
  }
 },
 "nbformat": 4,
 "nbformat_minor": 4
}
