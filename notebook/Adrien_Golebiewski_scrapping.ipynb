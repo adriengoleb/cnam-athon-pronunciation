{
 "cells": [
  {
   "cell_type": "markdown",
   "metadata": {},
   "source": [
    "# Scrap and Parse"
   ]
  },
  {
   "cell_type": "code",
   "execution_count": 19,
   "metadata": {},
   "outputs": [],
   "source": [
    "import requests"
   ]
  },
  {
   "cell_type": "code",
   "execution_count": 26,
   "metadata": {},
   "outputs": [],
   "source": [
    "from requests_html import HTMLSession\n",
    "from bs4 import BeautifulSoup\n",
    "import re\n",
    "import pandas as pd\n",
    "\n",
    "import pandas as pd\n",
    "pd.set_option('display.max_rows', 1000)\n",
    "pd.set_option('display.max_columns', 1000)\n",
    "pd.set_option('display.width', 1000)\n",
    "pd.set_option('display.expand_frame_repr', False)"
   ]
  },
  {
   "cell_type": "markdown",
   "metadata": {},
   "source": [
    "#### Définition d'une fonction automatisant le scrapping et le parsing des données voulues et regroupant les données dans un data frame selon un mot donné"
   ]
  },
  {
   "cell_type": "markdown",
   "metadata": {},
   "source": [
    "Choix du site de langue \"Longman\" pour réaliser nos étapes de scrapping et parsing : https://www.ldoceonline.com/dictionary/"
   ]
  },
  {
   "cell_type": "code",
   "execution_count": 34,
   "metadata": {},
   "outputs": [],
   "source": [
    "def scrap_parse_longman(word):\n",
    "    \n",
    "    # requête http de notre site de langue - Choix du site Longman\n",
    "    url_longman = 'https://www.ldoceonline.com/dictionary/'+word\n",
    "    session = HTMLSession()\n",
    "    response = session.get(url_longman)\n",
    "    \n",
    "    #si le site se génère bien sans erreur\n",
    "    if (response.status_code == 200):\n",
    "        \n",
    "        # récupération de la balise body\n",
    "        html_doc = response.content\n",
    "        body = BeautifulSoup(html_doc,'html.parser')\n",
    "        body.find('body')\n",
    "        \n",
    "        # initialisation des données à récupérer dans des listes\n",
    "        #pour faciliter l'accès\n",
    "        list_type = []\n",
    "        list_pron = []\n",
    "        list_MP3_us = []\n",
    "        list_MP3_br = []\n",
    "        \n",
    "        \n",
    "        # récupération des spans contenant les données recherchées\n",
    "        span = body.findAll('span', {'class': re.compile('(frequent )*Head')})\n",
    "\n",
    "        for result in span:\n",
    "            \n",
    "            # recherche des balises spans dont les classes ont comme valeur \"POS\" ou \"PRON\"\n",
    "            if result.find('span', {'class':'POS'}) is not None:\n",
    "                list_type.append(result.find('span', {'class':'POS'}).text.strip())\n",
    "            if result.find('span', {'class':'PRON'}) is not None:\n",
    "                list_pron.append(result.find('span', {'class':'PRON'}).text.strip())\n",
    "                \n",
    "            spans_all = result.findAll('span')\n",
    "                \n",
    "            # recherche des balises spans avec attribut \"data-src-mp3\"\n",
    "            for span in spans_all:\n",
    "                if span.has_attr('data-src-mp3'):\n",
    "                    if 'British' in span['title']:\n",
    "                        list_MP3_br.append(span['data-src-mp3'])\n",
    "                    elif 'American' in span['title']:\n",
    "                        list_MP3_us.append(span['data-src-mp3'])\n",
    "                           \n",
    "        # nombre de mot avec la même racine \n",
    "        nb_mots = len(list_type)\n",
    "        \n",
    "        # création du dataframe final\n",
    "        list_mots = nb_mots * [word]\n",
    "        while (len(list_pron) < nb_mots):\n",
    "            list_pron.append(list_pron[0])\n",
    "        \n",
    "        df_result = pd.DataFrame(list(zip(list_mots, list_type, list_pron, list_MP3_br, list_MP3_us)),\n",
    "                        columns = ['mot', 'type', 'pron', 'audio_us', 'audio_br'])\n",
    "    \n",
    "    \n",
    "    return df_result"
   ]
  },
  {
   "cell_type": "code",
   "execution_count": 35,
   "metadata": {},
   "outputs": [
    {
     "data": {
      "text/html": [
       "<div>\n",
       "<style scoped>\n",
       "    .dataframe tbody tr th:only-of-type {\n",
       "        vertical-align: middle;\n",
       "    }\n",
       "\n",
       "    .dataframe tbody tr th {\n",
       "        vertical-align: top;\n",
       "    }\n",
       "\n",
       "    .dataframe thead th {\n",
       "        text-align: right;\n",
       "    }\n",
       "</style>\n",
       "<table border=\"1\" class=\"dataframe\">\n",
       "  <thead>\n",
       "    <tr style=\"text-align: right;\">\n",
       "      <th></th>\n",
       "      <th>mot</th>\n",
       "      <th>type</th>\n",
       "      <th>pron</th>\n",
       "      <th>audio_us</th>\n",
       "      <th>audio_br</th>\n",
       "    </tr>\n",
       "  </thead>\n",
       "  <tbody>\n",
       "    <tr>\n",
       "      <th>0</th>\n",
       "      <td>love</td>\n",
       "      <td>verb</td>\n",
       "      <td>lʌv</td>\n",
       "      <td>https://www.ldoceonline.com/media/english/breP...</td>\n",
       "      <td>https://www.ldoceonline.com/media/english/ameP...</td>\n",
       "    </tr>\n",
       "    <tr>\n",
       "      <th>1</th>\n",
       "      <td>love</td>\n",
       "      <td>noun</td>\n",
       "      <td>lʌv</td>\n",
       "      <td>https://www.ldoceonline.com/media/english/breP...</td>\n",
       "      <td>https://www.ldoceonline.com/media/english/ameP...</td>\n",
       "    </tr>\n",
       "  </tbody>\n",
       "</table>\n",
       "</div>"
      ],
      "text/plain": [
       "    mot  type pron                                           audio_us                                           audio_br\n",
       "0  love  verb  lʌv  https://www.ldoceonline.com/media/english/breP...  https://www.ldoceonline.com/media/english/ameP...\n",
       "1  love  noun  lʌv  https://www.ldoceonline.com/media/english/breP...  https://www.ldoceonline.com/media/english/ameP..."
      ]
     },
     "execution_count": 35,
     "metadata": {},
     "output_type": "execute_result"
    }
   ],
   "source": [
    "scrap_parse_longman('love')"
   ]
  },
  {
   "cell_type": "code",
   "execution_count": 31,
   "metadata": {},
   "outputs": [
    {
     "data": {
      "text/html": [
       "<div>\n",
       "<style scoped>\n",
       "    .dataframe tbody tr th:only-of-type {\n",
       "        vertical-align: middle;\n",
       "    }\n",
       "\n",
       "    .dataframe tbody tr th {\n",
       "        vertical-align: top;\n",
       "    }\n",
       "\n",
       "    .dataframe thead th {\n",
       "        text-align: right;\n",
       "    }\n",
       "</style>\n",
       "<table border=\"1\" class=\"dataframe\">\n",
       "  <thead>\n",
       "    <tr style=\"text-align: right;\">\n",
       "      <th></th>\n",
       "      <th>mot</th>\n",
       "      <th>type</th>\n",
       "      <th>pron</th>\n",
       "      <th>audio_us</th>\n",
       "      <th>audio_br</th>\n",
       "    </tr>\n",
       "  </thead>\n",
       "  <tbody>\n",
       "    <tr>\n",
       "      <th>0</th>\n",
       "      <td>hello</td>\n",
       "      <td>interjection</td>\n",
       "      <td>həˈləʊ, he-</td>\n",
       "      <td>https://www.ldoceonline.com/media/english/breP...</td>\n",
       "      <td>https://www.ldoceonline.com/media/english/ameP...</td>\n",
       "    </tr>\n",
       "  </tbody>\n",
       "</table>\n",
       "</div>"
      ],
      "text/plain": [
       "     mot          type         pron                                           audio_us                                           audio_br\n",
       "0  hello  interjection  həˈləʊ, he-  https://www.ldoceonline.com/media/english/breP...  https://www.ldoceonline.com/media/english/ameP..."
      ]
     },
     "execution_count": 31,
     "metadata": {},
     "output_type": "execute_result"
    }
   ],
   "source": [
    "scrap_parse_longman('hello')"
   ]
  },
  {
   "cell_type": "code",
   "execution_count": 32,
   "metadata": {},
   "outputs": [
    {
     "data": {
      "text/html": [
       "<div>\n",
       "<style scoped>\n",
       "    .dataframe tbody tr th:only-of-type {\n",
       "        vertical-align: middle;\n",
       "    }\n",
       "\n",
       "    .dataframe tbody tr th {\n",
       "        vertical-align: top;\n",
       "    }\n",
       "\n",
       "    .dataframe thead th {\n",
       "        text-align: right;\n",
       "    }\n",
       "</style>\n",
       "<table border=\"1\" class=\"dataframe\">\n",
       "  <thead>\n",
       "    <tr style=\"text-align: right;\">\n",
       "      <th></th>\n",
       "      <th>mot</th>\n",
       "      <th>type</th>\n",
       "      <th>pron</th>\n",
       "      <th>audio_us</th>\n",
       "      <th>audio_br</th>\n",
       "    </tr>\n",
       "  </thead>\n",
       "  <tbody>\n",
       "    <tr>\n",
       "      <th>0</th>\n",
       "      <td>good</td>\n",
       "      <td>adjective</td>\n",
       "      <td>ɡʊd</td>\n",
       "      <td>https://www.ldoceonline.com/media/english/breP...</td>\n",
       "      <td>https://www.ldoceonline.com/media/english/ameP...</td>\n",
       "    </tr>\n",
       "    <tr>\n",
       "      <th>1</th>\n",
       "      <td>good</td>\n",
       "      <td>noun</td>\n",
       "      <td>gʊd</td>\n",
       "      <td>https://www.ldoceonline.com/media/english/breP...</td>\n",
       "      <td>https://www.ldoceonline.com/media/english/ameP...</td>\n",
       "    </tr>\n",
       "    <tr>\n",
       "      <th>2</th>\n",
       "      <td>good</td>\n",
       "      <td>adverb</td>\n",
       "      <td>ɡʊd</td>\n",
       "      <td>https://www.ldoceonline.com/media/english/breP...</td>\n",
       "      <td>https://www.ldoceonline.com/media/english/ameP...</td>\n",
       "    </tr>\n",
       "  </tbody>\n",
       "</table>\n",
       "</div>"
      ],
      "text/plain": [
       "    mot       type pron                                           audio_us                                           audio_br\n",
       "0  good  adjective  ɡʊd  https://www.ldoceonline.com/media/english/breP...  https://www.ldoceonline.com/media/english/ameP...\n",
       "1  good       noun  gʊd  https://www.ldoceonline.com/media/english/breP...  https://www.ldoceonline.com/media/english/ameP...\n",
       "2  good     adverb  ɡʊd  https://www.ldoceonline.com/media/english/breP...  https://www.ldoceonline.com/media/english/ameP..."
      ]
     },
     "execution_count": 32,
     "metadata": {},
     "output_type": "execute_result"
    }
   ],
   "source": [
    "scrap_parse_longman('good')"
   ]
  },
  {
   "cell_type": "code",
   "execution_count": null,
   "metadata": {},
   "outputs": [],
   "source": []
  }
 ],
 "metadata": {
  "kernelspec": {
   "display_name": "Python 3",
   "language": "python",
   "name": "python3"
  },
  "language_info": {
   "codemirror_mode": {
    "name": "ipython",
    "version": 3
   },
   "file_extension": ".py",
   "mimetype": "text/x-python",
   "name": "python",
   "nbconvert_exporter": "python",
   "pygments_lexer": "ipython3",
   "version": "3.7.9"
  }
 },
 "nbformat": 4,
 "nbformat_minor": 4
}
